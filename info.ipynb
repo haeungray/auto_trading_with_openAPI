{
 "cells": [
  {
   "cell_type": "markdown",
   "metadata": {},
   "source": [
    "# 집나간 정신과 마음 되찾는 주식거래 자동화 시스템"
   ]
  },
  {
   "cell_type": "markdown",
   "metadata": {},
   "source": [
    "### OpenAPI 이해와 활용으로 새로운 가치 창출\n",
    "\n",
    "<p>\n",
    "증권사 API와 카카오 API를 이용한 주식거래 자동화 시스템 개발\n",
    "</p>\n",
    "<BR>\n",
    "\n",
    "<ol>\n",
    "<li>사용자가 주식 종목의 <b>'일봉 데이터'</b>를 증권사 API를 통해 요청(signal)</li>\n",
    "<li>증권사 서버는 요청 데이터를 처리한 결과값을 슬롯에 저장함. </li>\n",
    "<li>이벤트 루프를 통해 슬롯(요청한 데이터의 결괏값을 받는 공간)에서 데이터를 반환됨 </li>\n",
    "</ol>\n",
    "\n",
    "\n",
    "\n",
    "![1.png](1.png)"
   ]
  },
  {
   "cell_type": "markdown",
   "metadata": {},
   "source": [
    "<p>\n",
    "PyQt5 라이브러리의 QEventLoop() 클래스를 사용해서 이벤트 실행을 제어한다. \n",
    "<p>\n",
    "=> 증권사 서버에 요청했던 데이터 수신이 정상적으로 이뤄지고, \n",
    "<P>\n",
    "결과값을 반환받을 때까지 프로그래머가 원하는 만큼 다음 작업으로 넘어가지 않고 안전하게 대기하기위함 "
   ]
  },
  {
   "cell_type": "markdown",
   "metadata": {},
   "source": [
    "### 동작원리"
   ]
  },
  {
   "cell_type": "markdown",
   "metadata": {},
   "source": [
    "![2.png](2.png)"
   ]
  },
  {
   "cell_type": "markdown",
   "metadata": {},
   "source": [
    "<br>\n",
    "<br>\n",
    "<strong>'계좌 보유 종목 가져오기'</strong> : 종목을 프로그램으로 가져오는 작업을 한다. \n",
    "<p>\n",
    "<strong>'분석해 놓은 종목 가져오기'</strong>에서는 전날 미리 선정해 놓은 종목을 프로그램으로 가져온다.\n",
    "<p>\n",
    "<strong>'매수/매도'</strong> 에서는 실시간으로 종목 데이터를 분석하고, 매수 및 매도 조건에 맞으면 주문에 들어간다. \n",
    "<p>\n",
    "그리고 주식장이 끝나면 개인의 분석 방식으로 계산하고, 다음날 분석할 종목들을 미리 선정한다. \n",
    "<p>\n",
    "마지막으로 <strong>'종목 선정 / 저장'</strong> 에서는 포트폴리오 분석에서 선정된 종목을 파일로 저장한다. "
   ]
  },
  {
   "cell_type": "code",
   "execution_count": 1,
   "metadata": {
    "collapsed": true
   },
   "outputs": [],
   "source": [
    "from PyQt5.QAxContainer import *\n",
    "from PyQt5.QtCore import *"
   ]
  },
  {
   "cell_type": "code",
   "execution_count": null,
   "metadata": {
    "collapsed": true
   },
   "outputs": [],
   "source": [
    "class Kiwoom(QAxWidget):\n",
    "    def __init__(self):\n",
    "        super().__init__()\n",
    "        print(\"kiwoom class start\")\n",
    "        \n",
    "        self.get_ocx_instance"
   ]
  }
 ],
 "metadata": {
  "kernelspec": {
   "display_name": "Python 3",
   "language": "python",
   "name": "python3"
  },
  "language_info": {
   "codemirror_mode": {
    "name": "ipython",
    "version": 3
   },
   "file_extension": ".py",
   "mimetype": "text/x-python",
   "name": "python",
   "nbconvert_exporter": "python",
   "pygments_lexer": "ipython3",
   "version": "3.6.3"
  }
 },
 "nbformat": 4,
 "nbformat_minor": 2
}
